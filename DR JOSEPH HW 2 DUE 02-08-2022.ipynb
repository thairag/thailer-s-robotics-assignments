{
 "cells": [
  {
   "cell_type": "markdown",
   "id": "563ce5ae",
   "metadata": {},
   "source": [
    "# PROBLEM 1 #"
   ]
  },
  {
   "cell_type": "markdown",
   "id": "84978806",
   "metadata": {},
   "source": [
    "A system of linear equations issquareif it has the same number of equations as unknowns. A square systme of linear equations consists of triangular systems as well. All terms “above” the diagonal of the matrixAare zero. It is possible for systems of linear equations to be square, but they are not lower triangular. From a matrix point of view, the condition is, all terms above the diagonal are zero. The matrix determinant of a square lower triangular matrix is equal to the product of the elements onthe diagonal. For a square lower triangular matrix, the matrix determinant is nonzero if, and only if, all of the elements on thediagonal of the matrix are non-zero. Equivalently, for a square lower triangular matrix, the matrix determinant is zero if, andonly if, at least one of the elements on the diagonal of the matrix is zero. Forward substitution is when you take the value found in the first equation and forward it to the next. We can use triangular structure to solves systems of linear equations."
   ]
  },
  {
   "cell_type": "markdown",
   "id": "c122672c",
   "metadata": {},
   "source": [
    "# PROBLEM 2 #"
   ]
  },
  {
   "cell_type": "code",
   "execution_count": 11,
   "id": "97d3b250",
   "metadata": {},
   "outputs": [
    {
     "name": "stderr",
     "output_type": "stream",
     "text": [
      "\u001b[32m\u001b[1m   Resolving\u001b[22m\u001b[39m package versions...\n",
      "\u001b[32m\u001b[1m  No Changes\u001b[22m\u001b[39m to `C:\\Users\\tailo\\.julia\\environments\\v1.7\\Project.toml`\n",
      "\u001b[32m\u001b[1m  No Changes\u001b[22m\u001b[39m to `C:\\Users\\tailo\\.julia\\environments\\v1.7\\Manifest.toml`\n"
     ]
    }
   ],
   "source": [
    "using Pkg\n",
    "Pkg.add(\"LinearAlgebra\")\n",
    "using LinearAlgebra"
   ]
  },
  {
   "cell_type": "code",
   "execution_count": 12,
   "id": "11e72cfb",
   "metadata": {},
   "outputs": [
    {
     "data": {
      "text/plain": [
       "2×2 Matrix{Int64}:\n",
       " 1   -4\n",
       " 2  -10"
      ]
     },
     "execution_count": 12,
     "metadata": {},
     "output_type": "execute_result"
    }
   ],
   "source": [
    "A = [1 -4; 2 -10]"
   ]
  },
  {
   "cell_type": "code",
   "execution_count": 13,
   "id": "059a09e1",
   "metadata": {},
   "outputs": [
    {
     "data": {
      "text/plain": [
       "2-element Vector{Int64}:\n",
       "  2\n",
       " -2"
      ]
     },
     "execution_count": 13,
     "metadata": {},
     "output_type": "execute_result"
    }
   ],
   "source": [
    "b = [2 ; -2]"
   ]
  },
  {
   "cell_type": "code",
   "execution_count": 24,
   "id": "c3e2e9b4",
   "metadata": {},
   "outputs": [
    {
     "data": {
      "text/plain": [
       "2-element Vector{Float64}:\n",
       " 14.0\n",
       "  3.0"
      ]
     },
     "execution_count": 24,
     "metadata": {},
     "output_type": "execute_result"
    }
   ],
   "source": [
    "x = A\\b\n",
    "A\\b"
   ]
  },
  {
   "cell_type": "markdown",
   "id": "340331de",
   "metadata": {},
   "source": [
    "# PROBLEM 3 #"
   ]
  },
  {
   "cell_type": "code",
   "execution_count": 25,
   "id": "fce16a28",
   "metadata": {},
   "outputs": [
    {
     "data": {
      "text/plain": [
       "3×3 Matrix{Int64}:\n",
       " 1    0   0\n",
       " 2  -10   0\n",
       " 1    2  -1"
      ]
     },
     "execution_count": 25,
     "metadata": {},
     "output_type": "execute_result"
    }
   ],
   "source": [
    "A = [1 0 0; 2 -10 0; 1 2 -1]"
   ]
  },
  {
   "cell_type": "code",
   "execution_count": 26,
   "id": "710ffec5",
   "metadata": {},
   "outputs": [
    {
     "data": {
      "text/plain": [
       "3-element Vector{Int64}:\n",
       "  8\n",
       " -2\n",
       "  4"
      ]
     },
     "execution_count": 26,
     "metadata": {},
     "output_type": "execute_result"
    }
   ],
   "source": [
    "b = [8 ; -2 ; 4]"
   ]
  },
  {
   "cell_type": "code",
   "execution_count": 27,
   "id": "dfdf815b",
   "metadata": {},
   "outputs": [
    {
     "data": {
      "text/plain": [
       "3-element Vector{Float64}:\n",
       " 8.0\n",
       " 1.8\n",
       " 7.6"
      ]
     },
     "execution_count": 27,
     "metadata": {},
     "output_type": "execute_result"
    }
   ],
   "source": [
    "x = A\\b\n",
    "A\\b"
   ]
  },
  {
   "cell_type": "markdown",
   "id": "3e6cc397",
   "metadata": {},
   "source": [
    "# PROBLEM 4 #"
   ]
  },
  {
   "cell_type": "code",
   "execution_count": 31,
   "id": "10697343",
   "metadata": {},
   "outputs": [
    {
     "data": {
      "text/plain": [
       "3×3 Matrix{Int64}:\n",
       " -2  1   0\n",
       "  1  0  -1\n",
       "  0  0   2"
      ]
     },
     "execution_count": 31,
     "metadata": {},
     "output_type": "execute_result"
    }
   ],
   "source": [
    "A = [-2 1 0; 1 0 -1; 0 0 2]"
   ]
  },
  {
   "cell_type": "code",
   "execution_count": 32,
   "id": "83ef2d26",
   "metadata": {},
   "outputs": [
    {
     "data": {
      "text/plain": [
       "3-element Vector{Int64}:\n",
       "  11\n",
       "   5\n",
       " -10"
      ]
     },
     "execution_count": 32,
     "metadata": {},
     "output_type": "execute_result"
    }
   ],
   "source": [
    "b = [11 ; 5 ; -10]"
   ]
  },
  {
   "cell_type": "code",
   "execution_count": 33,
   "id": "e000abcb",
   "metadata": {},
   "outputs": [
    {
     "data": {
      "text/plain": [
       "3-element Vector{Float64}:\n",
       " -0.0\n",
       " 11.0\n",
       " -5.0"
      ]
     },
     "execution_count": 33,
     "metadata": {},
     "output_type": "execute_result"
    }
   ],
   "source": [
    "x = A\\b\n",
    "A\\b"
   ]
  },
  {
   "cell_type": "markdown",
   "id": "126b1635",
   "metadata": {},
   "source": [
    "# PROBLEM 5 #"
   ]
  },
  {
   "cell_type": "code",
   "execution_count": 34,
   "id": "9e9eaa48",
   "metadata": {},
   "outputs": [
    {
     "data": {
      "text/plain": [
       "-2"
      ]
     },
     "execution_count": 34,
     "metadata": {},
     "output_type": "execute_result"
    }
   ],
   "source": [
    "A1 = [1 2; 3 4]\n",
    "sums = A[1, 1] + A[2, 2]"
   ]
  },
  {
   "cell_type": "code",
   "execution_count": 41,
   "id": "0d136976",
   "metadata": {},
   "outputs": [
    {
     "data": {
      "text/plain": [
       "0"
      ]
     },
     "execution_count": 41,
     "metadata": {},
     "output_type": "execute_result"
    }
   ],
   "source": [
    "A2 = [1 2 -4; 3 -2 14; exp(1) sqrt(2) pi]\n",
    "sums = A[1, 1] + A[2, 2] + A[3, 3]"
   ]
  },
  {
   "cell_type": "code",
   "execution_count": 45,
   "id": "e8cf38a6",
   "metadata": {
    "scrolled": true
   },
   "outputs": [
    {
     "data": {
      "text/plain": [
       "3×4 Matrix{Float64}:\n",
       "  1.0       2.0       2.0       4.0\n",
       " 11.0      12.0      14.0      13.0\n",
       "  2.71828   1.41421   3.14159   1.77245"
      ]
     },
     "execution_count": 45,
     "metadata": {},
     "output_type": "execute_result"
    }
   ],
   "source": [
    "A3 = [1 2 2 4; 11 12 14 13; exp(1) sqrt(2) pi sqrt(pi)]"
   ]
  },
  {
   "cell_type": "markdown",
   "id": "5855df4c",
   "metadata": {},
   "source": [
    "The diagonal is undefined because A3 is not square"
   ]
  },
  {
   "cell_type": "markdown",
   "id": "a09e269a",
   "metadata": {},
   "source": [
    "# PROBLEM 6 #"
   ]
  },
  {
   "cell_type": "code",
   "execution_count": 51,
   "id": "2030d062",
   "metadata": {},
   "outputs": [
    {
     "data": {
      "text/plain": [
       "-2.0"
      ]
     },
     "execution_count": 51,
     "metadata": {},
     "output_type": "execute_result"
    }
   ],
   "source": [
    "A1 = [1 2; 3 4]\n",
    "det(A1)"
   ]
  },
  {
   "cell_type": "code",
   "execution_count": 50,
   "id": "03e7323b",
   "metadata": {},
   "outputs": [
    {
     "data": {
      "text/plain": [
       "0.0"
      ]
     },
     "execution_count": 50,
     "metadata": {},
     "output_type": "execute_result"
    }
   ],
   "source": [
    "A2 = [2 -4; -1 2]\n",
    "det(A2)"
   ]
  },
  {
   "cell_type": "code",
   "execution_count": 49,
   "id": "9a7c95b0",
   "metadata": {},
   "outputs": [
    {
     "data": {
      "text/plain": [
       "-2.0"
      ]
     },
     "execution_count": 49,
     "metadata": {},
     "output_type": "execute_result"
    }
   ],
   "source": [
    "A3 = [4 2 -4; 0 -1 2; 0 0 .5]\n",
    "det(A3)"
   ]
  }
 ],
 "metadata": {
  "kernelspec": {
   "display_name": "Julia 1.7.1",
   "language": "julia",
   "name": "julia-1.7"
  },
  "language_info": {
   "file_extension": ".jl",
   "mimetype": "application/julia",
   "name": "julia",
   "version": "1.7.1"
  }
 },
 "nbformat": 4,
 "nbformat_minor": 5
}
